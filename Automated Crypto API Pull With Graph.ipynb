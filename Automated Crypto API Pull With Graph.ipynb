{
 "cells": [
  {
   "cell_type": "code",
   "execution_count": 1,
   "id": "1ee99dd7",
   "metadata": {},
   "outputs": [],
   "source": [
    "\n",
    "from requests import Request, Session\n",
    "from requests.exceptions import ConnectionError, Timeout, TooManyRedirects\n",
    "import json\n",
    "\n",
    "url = 'https://pro-api.coinmarketcap.com/v1/cryptocurrency/listings/latest'\n",
    "parameters = {\n",
    "  'start':'1',\n",
    "  'limit':'15',\n",
    "  'convert':'USD'\n",
    "}\n",
    "headers = {\n",
    "  'Accepts': 'application/json',\n",
    "  'X-CMC_PRO_API_KEY': '83274eb2-bf95-460f-8db1-6f15aac1d0c1',\n",
    "}\n",
    "\n",
    "session = Session()\n",
    "session.headers.update(headers)\n",
    "\n",
    "try:\n",
    "  response = session.get(url, params=parameters)\n",
    "  data = json.loads(response.text)\n",
    "  #print(data)\n",
    "except (ConnectionError, Timeout, TooManyRedirects) as e:\n",
    "  print(e)"
   ]
  },
  {
   "cell_type": "code",
   "execution_count": 2,
   "id": "c737543d",
   "metadata": {},
   "outputs": [
    {
     "data": {
      "text/plain": [
       "dict"
      ]
     },
     "execution_count": 2,
     "metadata": {},
     "output_type": "execute_result"
    }
   ],
   "source": [
    "type(data)"
   ]
  },
  {
   "cell_type": "code",
   "execution_count": 3,
   "id": "8d20e71d",
   "metadata": {},
   "outputs": [],
   "source": [
    "import pandas as pd\n",
    "\n",
    "pd.set_option('display.max_columns', None)\n",
    "pd.set_option('display.max_rows', None)"
   ]
  },
  {
   "cell_type": "code",
   "execution_count": null,
   "id": "32ec660c",
   "metadata": {},
   "outputs": [],
   "source": [
    "df = pd.json_normalize(data['data'])\n",
    "df['timestamp'] = pd.to_datetime('now')\n",
    "df"
   ]
  },
  {
   "cell_type": "code",
   "execution_count": 5,
   "id": "93f0f431",
   "metadata": {},
   "outputs": [],
   "source": [
    "def api_runner():\n",
    "    global df\n",
    "    url = 'https://pro-api.coinmarketcap.com/v1/cryptocurrency/listings/latest'\n",
    "    parameters = {\n",
    "      'start':'1',\n",
    "      'limit':'15',\n",
    "      'convert':'USD'\n",
    "    }\n",
    "    headers = {\n",
    "      'Accepts': 'application/json',\n",
    "      'X-CMC_PRO_API_KEY': '83274eb2-bf95-460f-8db1-6f15aac1d0c1',\n",
    "    }\n",
    "\n",
    "    session = Session()\n",
    "    session.headers.update(headers)\n",
    "\n",
    "    try:\n",
    "      response = session.get(url, params=parameters)\n",
    "      data = json.loads(response.text)\n",
    "      #print(data)\n",
    "    except (ConnectionError, Timeout, TooManyRedirects) as e:\n",
    "      print(e)\n",
    "    \n",
    "    df2 = pd.json_normalize(data['data'])\n",
    "    df2['Timestamp'] = pd.to_datetime('now')\n",
    "    df = df.append(df2)\n",
    "\n",
    "    # Alternatively Create a CSV file and append the data to that\n",
    "    #df = pd.json_normalize(data['data'])\n",
    "    #df['timestamp'] = pd.to_datetime('now')\n",
    "    #df\n",
    "\n",
    "    #if not os.path.isfile(r'C:\\Users\\aerei\\OneDrive\\Documents\\Python Scripts\\API.csv'):\n",
    "        #df.to_csv(r'C:\\Users\\aerei\\OneDrive\\Documents\\Python Scripts\\API.csv', header='column_names')\n",
    "    #else:\n",
    "        #df.to_csv(r'C:\\Users\\aerei\\OneDrive\\Documents\\Python Scripts\\API.csv', mode='a', header=False)\n",
    "        \n",
    "    #Read in the file: df = pd.read_csv(r'C:\\Users\\aerei\\OneDrive\\Documents\\Python Scripts\\API.csv')\n",
    " "
   ]
  },
  {
   "cell_type": "code",
   "execution_count": null,
   "id": "2541ff9c",
   "metadata": {},
   "outputs": [],
   "source": [
    "import os\n",
    "from time import time\n",
    "from time import sleep\n",
    "\n",
    "for i in range(333):\n",
    "    api_runner()\n",
    "    print('API Runner completed successfully')\n",
    "    sleep(60) #sleeps for 1 minute\n",
    "exit()"
   ]
  },
  {
   "cell_type": "code",
   "execution_count": null,
   "id": "dfb8385a",
   "metadata": {},
   "outputs": [],
   "source": [
    "df"
   ]
  },
  {
   "cell_type": "code",
   "execution_count": null,
   "id": "74f48b59",
   "metadata": {},
   "outputs": [],
   "source": [
    "#Change the scientific notation to make it easier to read the numbers\n",
    "\n",
    "pd.set_option('display.float_format', lambda x: '%.5f' % x)"
   ]
  },
  {
   "cell_type": "code",
   "execution_count": null,
   "id": "e89dee17",
   "metadata": {},
   "outputs": [],
   "source": [
    "df"
   ]
  },
  {
   "cell_type": "code",
   "execution_count": null,
   "id": "3d63f4d4",
   "metadata": {},
   "outputs": [],
   "source": [
    "# Looking at the coin trends over time\n",
    "\n",
    "df_trends = df.groupby('name', sort=False)[['quote.USD.percent_change_1h','quote.USD.percent_change_24h','quote.USD.percent_change_7d','quote.USD.percent_change_30d','quote.USD.percent_change_60d','quote.USD.percent_change_90d']].mean()\n",
    "df_trends"
   ]
  },
  {
   "cell_type": "code",
   "execution_count": null,
   "id": "1e19bb13",
   "metadata": {},
   "outputs": [],
   "source": [
    "df_stacked = df_trends.stack()\n",
    "df_stacked"
   ]
  },
  {
   "cell_type": "code",
   "execution_count": null,
   "id": "13584ddb",
   "metadata": {},
   "outputs": [],
   "source": [
    "type(df_stacked)"
   ]
  },
  {
   "cell_type": "code",
   "execution_count": null,
   "id": "52c77dbc",
   "metadata": {},
   "outputs": [],
   "source": [
    "df_stacked2 = df_stacked.to_frame(name='values')\n",
    "df_stacked2"
   ]
  },
  {
   "cell_type": "code",
   "execution_count": null,
   "id": "ce01d8b1",
   "metadata": {},
   "outputs": [],
   "source": [
    "df_stacked2.count()"
   ]
  },
  {
   "cell_type": "code",
   "execution_count": null,
   "id": "00d30af7",
   "metadata": {},
   "outputs": [],
   "source": [
    "index = pd.Index(range(90))\n",
    "\n",
    "df_stacked3 = df_stacked2.reset_index()\n",
    "df_stacked3"
   ]
  },
  {
   "cell_type": "code",
   "execution_count": null,
   "id": "731bbe8c",
   "metadata": {},
   "outputs": [],
   "source": [
    "df_stacked4 = df_stacked3.rename(columns={'level_1': 'percent_change'})\n",
    "df_stacked4"
   ]
  },
  {
   "cell_type": "code",
   "execution_count": null,
   "id": "61293bce",
   "metadata": {},
   "outputs": [],
   "source": [
    "df_stacked4['percent_change'] = df_stacked4['percent_change'].replace(['quote.USD.percent_change_1h','quote.USD.percent_change_24h','quote.USD.percent_change_7d','quote.USD.percent_change_30d','quote.USD.percent_change_60d','quote.USD.percent_change_90d'],['1hr','24h','7d','30d','60d','90d'])\n",
    "df_stacked4"
   ]
  },
  {
   "cell_type": "code",
   "execution_count": 25,
   "id": "68e13dea",
   "metadata": {},
   "outputs": [],
   "source": [
    "import seaborn as sns\n",
    "import matplotlib as plt"
   ]
  },
  {
   "cell_type": "code",
   "execution_count": 26,
   "id": "5b8d5e78",
   "metadata": {},
   "outputs": [
    {
     "data": {
      "text/plain": [
       "<seaborn.axisgrid.FacetGrid at 0x242ccf101f0>"
      ]
     },
     "execution_count": 26,
     "metadata": {},
     "output_type": "execute_result"
    },
    {
     "data": {
      "image/png": "[encoded data removed]",
      "text/plain": [
       "<Figure size 460.75x360 with 1 Axes>"
      ]
     },
     "metadata": {
      "needs_background": "light"
     },
     "output_type": "display_data"
    }
   ],
   "source": [
    "sns.catplot(x='percent_change', y='values', hue='name', data=df_stacked4, kind='point')"
   ]
  },
  {
   "cell_type": "code",
   "execution_count": null,
   "id": "48d38a8e",
   "metadata": {},
   "outputs": [],
   "source": []
  }
 ],
 "metadata": {
  "kernelspec": {
   "display_name": "Python 3 (ipykernel)",
   "language": "python",
   "name": "python3"
  },
  "language_info": {
   "codemirror_mode": {
    "name": "ipython",
    "version": 3
   },
   "file_extension": ".py",
   "mimetype": "text/x-python",
   "name": "python",
   "nbconvert_exporter": "python",
   "pygments_lexer": "ipython3",
   "version": "3.9.12"
  }
 },
 "nbformat": 4,
 "nbformat_minor": 5
}
